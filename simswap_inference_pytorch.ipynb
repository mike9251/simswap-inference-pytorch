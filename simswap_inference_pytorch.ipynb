{
  "nbformat": 4,
  "nbformat_minor": 0,
  "metadata": {
    "colab": {
      "name": "simswap-inference-pytorch.ipynb",
      "provenance": [],
      "collapsed_sections": [],
      "include_colab_link": true
    },
    "kernelspec": {
      "name": "python3",
      "display_name": "Python 3"
    },
    "language_info": {
      "name": "python"
    },
    "accelerator": "GPU",
    "gpuClass": "standard"
  },
  "cells": [
    {
      "cell_type": "markdown",
      "metadata": {
        "id": "view-in-github",
        "colab_type": "text"
      },
      "source": [
        "<a href=\"https://colab.research.google.com/github/mike9251/simswap-inference-pytorch/blob/Fixes/simswap_inference_pytorch.ipynb\" target=\"_parent\"><img src=\"https://colab.research.google.com/assets/colab-badge.svg\" alt=\"Open In Colab\"/></a>"
      ]
    },
    {
      "cell_type": "code",
      "source": [
        "# Check gpu\n",
        "!nvidia-smi"
      ],
      "metadata": {
        "id": "CczUWfl07LE0"
      },
      "execution_count": null,
      "outputs": []
    },
    {
      "cell_type": "markdown",
      "source": [
        "## Installation"
      ],
      "metadata": {
        "id": "NomNJH0WehoA"
      }
    },
    {
      "cell_type": "code",
      "source": [
        "# Clone repository\n",
        "!git clone https://github.com/mike9251/simswap-inference-pytorch\n",
        "%cd simswap-inference-pytorch"
      ],
      "metadata": {
        "id": "Y1YSZfVS_d6H"
      },
      "execution_count": null,
      "outputs": []
    },
    {
      "cell_type": "code",
      "source": [
        "# Install requirements\n",
        "!pip install -r requirements.txt"
      ],
      "metadata": {
        "id": "lVzrbgQeACFz"
      },
      "execution_count": null,
      "outputs": []
    },
    {
      "cell_type": "code",
      "source": [
        "# Face detection will be performed on CPU. To run it on GPU you need to install onnx gpu runtime\n",
        "!pip install onnxruntime-gpu==1.11.1\n",
        "# Modify one line of code in the insightface original_file\n",
        "import shutil\n",
        "modified_file = '/content/simswap-inference-pytorch/model_zoo.py'\n",
        "original_file = '/usr/local/lib/python3.7/dist-packages/insightface/model_zoo/model_zoo.py'\n",
        "shutil.copy(modified_file, original_file)"
      ],
      "metadata": {
        "id": "TdmW741YFLuH"
      },
      "execution_count": null,
      "outputs": []
    },
    {
      "cell_type": "code",
      "source": [
        "# Download Weights, extract, delete .7z archive\n",
        "#!gdown 1Lhh24Isxriuv2rAgPK_vnpLAsJ3u2bZk --no-cookies --no-check-certificate -O ./weights/\n",
        "# Use the above line if the below one does not work\n",
        "!gdown 1Lhh24Isxriuv2rAgPK_vnpLAsJ3u2bZk -O ./weights/\n",
        "!7z x /content/simswap-inference-pytorch/weights/weights.7z\n",
        "!rm -rf /content/simswap-inference-pytorch/weights/weights.7z"
      ],
      "metadata": {
        "id": "Tz40DpqtJ7kw"
      },
      "execution_count": null,
      "outputs": []
    },
    {
      "cell_type": "code",
      "source": [
        "# OPTIONAL - Mount Gdrive\n",
        "from google.colab import drive\n",
        "drive.mount('/content/drive', force_remount=True)\n",
        "print(\"Done!\")"
      ],
      "metadata": {
        "id": "eI0lyUoViK5a"
      },
      "execution_count": null,
      "outputs": []
    },
    {
      "cell_type": "markdown",
      "source": [
        "## Inference"
      ],
      "metadata": {
        "id": "5Z_jwAmieU7R"
      }
    },
    {
      "cell_type": "code",
      "source": [
        "# replace all faces on a target image / folder with images\n",
        "!python app.py --config-name=run_image.yaml"
      ],
      "metadata": {
        "id": "JwJ-OctIN4uK"
      },
      "execution_count": null,
      "outputs": []
    },
    {
      "cell_type": "code",
      "source": [
        "# replace all faces on a video\n",
        "!python app.py --config-name=run_video.yaml"
      ],
      "metadata": {
        "id": "JGGUTSULdbmE"
      },
      "execution_count": null,
      "outputs": []
    },
    {
      "cell_type": "code",
      "source": [
        "# replace a specific face on a target image / folder with images\n",
        "!python app.py --config-name=run_image_specific.yaml"
      ],
      "metadata": {
        "id": "S450uratdedt"
      },
      "execution_count": null,
      "outputs": []
    },
    {
      "cell_type": "code",
      "source": [
        "# replace a specific face on a video\n",
        "!python app.py --config-name=run_video_specific.yaml"
      ],
      "metadata": {
        "id": "tu2RSQV_dg3Q"
      },
      "execution_count": null,
      "outputs": []
    }
  ]
}
